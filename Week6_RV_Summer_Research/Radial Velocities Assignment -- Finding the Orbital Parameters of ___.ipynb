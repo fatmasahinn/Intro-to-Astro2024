{
 "cells": [
  {
   "cell_type": "markdown",
   "id": "c2cfa925",
   "metadata": {},
   "source": [
    "*Quick note: make sure you have the following packages installed before using this notebook!*"
   ]
  },
  {
   "cell_type": "code",
   "execution_count": null,
   "id": "2cf681cb",
   "metadata": {},
   "outputs": [],
   "source": [
    "from astropy.stats import LombScargle # for periodograms\n",
    "import corner # for visualizing parameter distributions\n",
    "import numpy as np # for math and data storage\n",
    "import pandas as pd # for math and data storage\n",
    "import matplotlib.pyplot as plt # for plot making\n",
    "import radvel # for fitting RVs\n",
    "from radvel.plot import orbit_plots, mcmc_plots # for visualizing RVs\n",
    "from scipy import optimize # for fitting RVs\n",
    "\n",
    "# this bit below is just to fix an issue with radvel that appears if you're using numpy versions 1.22.0 or later!\n",
    "try:\n",
    "    np.__config__.blas_opt_info = np.__config__.blas_ilp64_opt_info\n",
    "except Exception:\n",
    "    pass"
   ]
  },
  {
   "cell_type": "markdown",
   "id": "570f4671",
   "metadata": {},
   "source": [
    "# Finding the Orbital Parameters of ???\n",
    "\n",
    "Welcome to the Radial Velocities assignment! In this assignment, you're going to be finding the mass (or minimum mass) of a planet from radial velocity measurements from scratch, all on your own.\n",
    "\n",
    "This is a very open-ended assignment, and I'd like you to code it all on your own! You pick the planet, you code it up. That said, I will give some steps (that you don't have to follow but may be helpful):\n",
    "\n",
    "1. Figure out which planet you want to find the orbital parameters of! Not all RV data is good to work with, especially for people still getting used to RVs. Ideally, you find a planet that:\n",
    "- is the only planet in its system (otherwise you'll have two signals! You can model them both if you want a challenge, but you don't need to here.)\n",
    "- is a very massive planet! If you have Earthike planets, the signals start getting too small for RV methods to detect without also having to model things like stellar variability (and trust me -- as someone who struggles to do that as a job, it's tough!)\n",
    "- Around a Sun-like star (really small stars have very high signal semi-amplitudes but have a lot of stellar variability, while really big stars have very small RV semi-amplitudes!\n",
    "- Has RVs from only one instrument, as each instrument may have different offsets or quirks that make them more difficult to model together\n",
    "- Has RVs you can easily download and access yourself!\n",
    "\n",
    "  Here are a few papers containing RVs that satisfy those bullet points! You don't need to use them, but they're here if you'd rather not find a system yourself.\n",
    "- TrES-2 b, with its paper [here](https://iopscience.iop.org/article/10.1086/509123/pdf)\n",
    "- HAT-P-15 b, with its paper [here](https://iopscience.iop.org/article/10.1088/0004-637X/724/2/866)\n",
    "- HD 22532 b, with its paper [here](https://www.aanda.org/articles/aa/full_html/2022/01/aa40078-20/aa40078-20.html)\n",
    "\n",
    "2. Download and read in the data! In some papers (like the HAT-P-15 b paper or the HD 22532 paper), the RVs are available in a downloadable table in the paper. Sometimes, the data is linked through data centers like CDS, or maybe Simbad or Vizier; sometimes, like in the TrES-2 b paper, you just need to copy and paste the table into a .txt file :/ In any case, get the data and read it in. To make sure you know it works, maybe try plotting your RVs as a function of time, with error bars if you can!\n",
    "\n",
    "3. Figure out your priors! Some of these are going to be informed by realistic numbers (e.g. informing that your jitter cannot be negative), while some of these are going to be informed by previous studies. For example, if the paper you're getting your RV data from notes that this planet is transiting, use priors informed by the transits for $P$ and $t_0$! (RVs can figure out those two values to the tune of hours or minutes, but transits can get so much more precise values for those -- down to a fraction of a second in some cases -- that it's worth just using the values of $P$ and $t_0$ from transit fits for your priors.)\n",
    "\n",
    "4. Figure out what values to initialize your parameters to. It's okay to just do this by eye if you don't have better options, but if you have better options use them! For example, it might be worth making your own peridogram to figure out what value to initialize your planet's period to if you don't have transit data.\n",
    "\n",
    "5. Run a simple optimization fit!\n",
    "\n",
    "6. Do an MCMC fit.\n",
    "\n",
    "7. Look at your results! Do they look reasonable? Are they consistent with the results found in the papers you got data from?"
   ]
  },
  {
   "cell_type": "code",
   "execution_count": null,
   "id": "5f31b07d",
   "metadata": {},
   "outputs": [],
   "source": [
    "# TODO: find planet masses!"
   ]
  },
  {
   "cell_type": "markdown",
   "id": "2e6e6738",
   "metadata": {},
   "source": [
    "### Part 1: Getting Our Data"
   ]
  },
  {
   "cell_type": "code",
   "execution_count": null,
   "id": "9922e9ec",
   "metadata": {},
   "outputs": [],
   "source": [
    "df=pd.read_csv(\"TrES_2_RV.csv\")"
   ]
  },
  {
   "cell_type": "code",
   "execution_count": null,
   "id": "7812af0a",
   "metadata": {},
   "outputs": [],
   "source": [
    "df.head()"
   ]
  },
  {
   "cell_type": "code",
   "execution_count": null,
   "id": "39d02af4",
   "metadata": {},
   "outputs": [],
   "source": [
    "df.shape"
   ]
  },
  {
   "cell_type": "code",
   "execution_count": null,
   "id": "180bd0d8",
   "metadata": {},
   "outputs": [],
   "source": [
    "fig, ax = plt.subplots(figsize = (12, 4))\n",
    "ax.scatter(df['Observation Epoch (HJD - 2400000)'], df['Radial Velocity (m/s)'], s = 10, color = 'blue', alpha = 0.75)\n",
    "ax.errorbar(x = df['Observation Epoch (HJD - 2400000)'], y = df['Radial Velocity (m/s)'], yerr = df['σRV (m/s)'], color = 'blue', alpha = 0.75, ls = 'None')\n",
    "ax.set_xlabel(\"Observation Epoch (HJD - 2400000)\")\n",
    "ax.set_ylabel(\"Radial Velocity (m/s)\")"
   ]
  },
  {
   "cell_type": "markdown",
   "id": "a04ac1f6",
   "metadata": {},
   "source": [
    "### Part 2: Identifying Signals"
   ]
  },
  {
   "cell_type": "code",
   "execution_count": null,
   "id": "63521572",
   "metadata": {},
   "outputs": [],
   "source": [
    "periods = np.logspace(np.log10(2.), np.log10(10.), num = 1000)\n",
    "frequency = 1. / periods\n",
    "ls = LombScargle(df['Observation Epoch (HJD - 2400000)'], df['Radial Velocity (m/s)'], df['σRV (m/s)'], fit_mean = True)\n",
    "power = ls.power(frequency)\n",
    "\n",
    "fig, ax = plt.subplots(figsize = (12, 6))\n",
    "ax.plot(periods, power, label = 'Power', c = 'blue')\n",
    "ax.set_xlabel(\"Period (days)\")\n",
    "ax.set_ylabel(\"Power\")\n",
    "\n",
    "ax.axhline(xmin = 0, xmax = 1, y = ls.false_alarm_level([0.01]), c = 'green',  label = '1% False Alarm Probability')\n",
    "ax.axhline(xmin = 0, xmax = 1, y = ls.false_alarm_level([0.05]), c = 'orange', label = '5% False Alarm Probability')\n",
    "\n",
    "ax.legend();"
   ]
  },
  {
   "cell_type": "code",
   "execution_count": null,
   "id": "9726cc81",
   "metadata": {},
   "outputs": [],
   "source": [
    "best_period = periods[np.argmax(power)]\n",
    "print(f\"Best period is {best_period:.3f} days.\")"
   ]
  },
  {
   "cell_type": "markdown",
   "id": "85256028",
   "metadata": {},
   "source": [
    "### Part 3: Creating Our Model"
   ]
  },
  {
   "cell_type": "code",
   "execution_count": null,
   "id": "e32d7fdc",
   "metadata": {},
   "outputs": [],
   "source": [
    "def initialize_model():\n",
    "    \n",
    "    params = radvel.Parameters(1,basis='per tc secosw sesinw k')\n",
    "    params['per1'] = radvel.Parameter(value=best_period)       # Insert our guess for period of first planet (from periodogram)\n",
    "    params['tc1'] = radvel.Parameter(value=2.0)      # guess for time of transit of 1st planet\n",
    "    params['secosw1'] = radvel.Parameter(value=0.001)    # determines eccentricity (assuming circular orbit here)\n",
    "    params['sesinw1'] = radvel.Parameter(value=0.001)    # determines eccentriciy (assuming circular orbit here)\n",
    "    params['k1'] = radvel.Parameter(value=70.)          # radial velocity semi-amplitude\n",
    "    \n",
    "    params['dvdt'] = radvel.Parameter(value=0., vary = False) # possible acceleration of star\n",
    "    params['curv'] = radvel.Parameter(value=0., vary = False)  # possible curvature in long-term radial velocity trend\n",
    "    mod = radvel.RVModel(params)\n",
    "    \n",
    "    return mod"
   ]
  },
  {
   "cell_type": "code",
   "execution_count": null,
   "id": "6ab4c469",
   "metadata": {},
   "outputs": [],
   "source": [
    "mod = initialize_model() # model initiliazed\n",
    "like = radvel.likelihood.RVLikelihood(mod, df['Observation Epoch (HJD - 2400000)'], df['Radial Velocity (m/s)'], df['σRV (m/s)']) # initialize Likelihood object"
   ]
  },
  {
   "cell_type": "code",
   "execution_count": null,
   "id": "e36a1a14",
   "metadata": {},
   "outputs": [],
   "source": [
    "post = radvel.posterior.Posterior(like) # initialize radvel.Posterior object\n",
    "\n",
    "RVPlot = orbit_plots.MultipanelPlot(post, legend = False)\n",
    "RVPlot.plot_multipanel();"
   ]
  },
  {
   "cell_type": "code",
   "execution_count": null,
   "id": "bfbb3fb9",
   "metadata": {},
   "outputs": [],
   "source": [
    "print(like)"
   ]
  },
  {
   "cell_type": "code",
   "execution_count": null,
   "id": "47e2f736",
   "metadata": {},
   "outputs": [],
   "source": [
    "res = optimize.minimize(\n",
    "    post.neglogprob_array,     # objective function is negative log likelihood\n",
    "    post.get_vary_params(),    # initial variable parameters\n",
    "    method='Powell',           # Nelder-Mead also works\n",
    "    )\n",
    "print(post)"
   ]
  },
  {
   "cell_type": "code",
   "execution_count": null,
   "id": "2518ca06",
   "metadata": {},
   "outputs": [],
   "source": [
    "RVPlot = orbit_plots.MultipanelPlot(post)\n",
    "RVPlot.plot_multipanel();"
   ]
  },
  {
   "cell_type": "markdown",
   "id": "3784b106",
   "metadata": {},
   "source": [
    "### Part 4: MCMC Fitting"
   ]
  },
  {
   "cell_type": "code",
   "execution_count": null,
   "id": "622af697",
   "metadata": {},
   "outputs": [],
   "source": [
    "post = radvel.posterior.Posterior(like)\n",
    "post.priors += [radvel.prior.HardBounds('jit', 0., 100.)]"
   ]
  },
  {
   "cell_type": "code",
   "execution_count": null,
   "id": "36a12c70",
   "metadata": {},
   "outputs": [],
   "source": [
    "df = radvel.mcmc(post, nwalkers=32, nrun=5000)"
   ]
  },
  {
   "cell_type": "code",
   "execution_count": null,
   "id": "b7e6d03a",
   "metadata": {},
   "outputs": [],
   "source": [
    "RVPlot = orbit_plots.MultipanelPlot(post, legend = False)\n",
    "RVPlot.plot_multipanel();"
   ]
  },
  {
   "cell_type": "code",
   "execution_count": null,
   "id": "9d63993a",
   "metadata": {},
   "outputs": [],
   "source": [
    "Corner = mcmc_plots.CornerPlot(post, df)\n",
    "Corner.plot()"
   ]
  },
  {
   "cell_type": "code",
   "execution_count": null,
   "id": "56155b66",
   "metadata": {},
   "outputs": [],
   "source": [
    "def planetary_mass(K, P, M_star):\n",
    "    '''\n",
    "    Given a semi-amplitude (in m/s), a period (in days), and a stellar mass (in solar masses),\n",
    "    returns the mass of the planet that caused that signal (in Earth masses).\n",
    "    '''\n",
    "    \n",
    "    return (1. / 0.647204) * K * np.power(M_star, 2/3) * np.power(P, 1/3)\n",
    "\n",
    "# 51 Pegasi has a mass of 1.12 solar masses\n",
    "\n",
    "planetary_mass(57.92, 4.23, 1.12)"
   ]
  }
 ],
 "metadata": {
  "kernelspec": {
   "display_name": "Python 3 (ipykernel)",
   "language": "python",
   "name": "python3"
  },
  "language_info": {
   "codemirror_mode": {
    "name": "ipython",
    "version": 3
   },
   "file_extension": ".py",
   "mimetype": "text/x-python",
   "name": "python",
   "nbconvert_exporter": "python",
   "pygments_lexer": "ipython3",
   "version": "3.11.5"
  }
 },
 "nbformat": 4,
 "nbformat_minor": 5
}
